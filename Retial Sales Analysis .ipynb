{
 "cells": [
  {
   "cell_type": "code",
   "execution_count": 13,
   "id": "a1a89269",
   "metadata": {},
   "outputs": [],
   "source": [
    "import pandas as pd\n",
    "import json"
   ]
  },
  {
   "cell_type": "code",
   "execution_count": null,
   "id": "7dac1866",
   "metadata": {},
   "outputs": [],
   "source": []
  },
  {
   "cell_type": "code",
   "execution_count": 14,
   "id": "56237a9d",
   "metadata": {
    "scrolled": true
   },
   "outputs": [
    {
     "ename": "FileNotFoundError",
     "evalue": "[Errno 2] No such file or directory: 'demographics.txt'",
     "output_type": "error",
     "traceback": [
      "\u001b[1;31m---------------------------------------------------------------------------\u001b[0m",
      "\u001b[1;31mFileNotFoundError\u001b[0m                         Traceback (most recent call last)",
      "\u001b[1;32m~\\AppData\\Local\\Temp\\ipykernel_17104\\3313589973.py\u001b[0m in \u001b[0;36m<module>\u001b[1;34m\u001b[0m\n\u001b[1;32m----> 1\u001b[1;33m \u001b[0mdemographics_df\u001b[0m \u001b[1;33m=\u001b[0m \u001b[0mpd\u001b[0m\u001b[1;33m.\u001b[0m\u001b[0mread_csv\u001b[0m\u001b[1;33m(\u001b[0m\u001b[1;34m\"demographics.txt\"\u001b[0m\u001b[1;33m,\u001b[0m \u001b[0msep\u001b[0m\u001b[1;33m=\u001b[0m\u001b[1;34m\"\\t\"\u001b[0m\u001b[1;33m)\u001b[0m\u001b[1;33m\u001b[0m\u001b[1;33m\u001b[0m\u001b[0m\n\u001b[0m",
      "\u001b[1;32m~\\anaconda3\\lib\\site-packages\\pandas\\util\\_decorators.py\u001b[0m in \u001b[0;36mwrapper\u001b[1;34m(*args, **kwargs)\u001b[0m\n\u001b[0;32m    309\u001b[0m                     \u001b[0mstacklevel\u001b[0m\u001b[1;33m=\u001b[0m\u001b[0mstacklevel\u001b[0m\u001b[1;33m,\u001b[0m\u001b[1;33m\u001b[0m\u001b[1;33m\u001b[0m\u001b[0m\n\u001b[0;32m    310\u001b[0m                 )\n\u001b[1;32m--> 311\u001b[1;33m             \u001b[1;32mreturn\u001b[0m \u001b[0mfunc\u001b[0m\u001b[1;33m(\u001b[0m\u001b[1;33m*\u001b[0m\u001b[0margs\u001b[0m\u001b[1;33m,\u001b[0m \u001b[1;33m**\u001b[0m\u001b[0mkwargs\u001b[0m\u001b[1;33m)\u001b[0m\u001b[1;33m\u001b[0m\u001b[1;33m\u001b[0m\u001b[0m\n\u001b[0m\u001b[0;32m    312\u001b[0m \u001b[1;33m\u001b[0m\u001b[0m\n\u001b[0;32m    313\u001b[0m         \u001b[1;32mreturn\u001b[0m \u001b[0mwrapper\u001b[0m\u001b[1;33m\u001b[0m\u001b[1;33m\u001b[0m\u001b[0m\n",
      "\u001b[1;32m~\\anaconda3\\lib\\site-packages\\pandas\\io\\parsers\\readers.py\u001b[0m in \u001b[0;36mread_csv\u001b[1;34m(filepath_or_buffer, sep, delimiter, header, names, index_col, usecols, squeeze, prefix, mangle_dupe_cols, dtype, engine, converters, true_values, false_values, skipinitialspace, skiprows, skipfooter, nrows, na_values, keep_default_na, na_filter, verbose, skip_blank_lines, parse_dates, infer_datetime_format, keep_date_col, date_parser, dayfirst, cache_dates, iterator, chunksize, compression, thousands, decimal, lineterminator, quotechar, quoting, doublequote, escapechar, comment, encoding, encoding_errors, dialect, error_bad_lines, warn_bad_lines, on_bad_lines, delim_whitespace, low_memory, memory_map, float_precision, storage_options)\u001b[0m\n\u001b[0;32m    676\u001b[0m     \u001b[0mkwds\u001b[0m\u001b[1;33m.\u001b[0m\u001b[0mupdate\u001b[0m\u001b[1;33m(\u001b[0m\u001b[0mkwds_defaults\u001b[0m\u001b[1;33m)\u001b[0m\u001b[1;33m\u001b[0m\u001b[1;33m\u001b[0m\u001b[0m\n\u001b[0;32m    677\u001b[0m \u001b[1;33m\u001b[0m\u001b[0m\n\u001b[1;32m--> 678\u001b[1;33m     \u001b[1;32mreturn\u001b[0m \u001b[0m_read\u001b[0m\u001b[1;33m(\u001b[0m\u001b[0mfilepath_or_buffer\u001b[0m\u001b[1;33m,\u001b[0m \u001b[0mkwds\u001b[0m\u001b[1;33m)\u001b[0m\u001b[1;33m\u001b[0m\u001b[1;33m\u001b[0m\u001b[0m\n\u001b[0m\u001b[0;32m    679\u001b[0m \u001b[1;33m\u001b[0m\u001b[0m\n\u001b[0;32m    680\u001b[0m \u001b[1;33m\u001b[0m\u001b[0m\n",
      "\u001b[1;32m~\\anaconda3\\lib\\site-packages\\pandas\\io\\parsers\\readers.py\u001b[0m in \u001b[0;36m_read\u001b[1;34m(filepath_or_buffer, kwds)\u001b[0m\n\u001b[0;32m    573\u001b[0m \u001b[1;33m\u001b[0m\u001b[0m\n\u001b[0;32m    574\u001b[0m     \u001b[1;31m# Create the parser.\u001b[0m\u001b[1;33m\u001b[0m\u001b[1;33m\u001b[0m\u001b[0m\n\u001b[1;32m--> 575\u001b[1;33m     \u001b[0mparser\u001b[0m \u001b[1;33m=\u001b[0m \u001b[0mTextFileReader\u001b[0m\u001b[1;33m(\u001b[0m\u001b[0mfilepath_or_buffer\u001b[0m\u001b[1;33m,\u001b[0m \u001b[1;33m**\u001b[0m\u001b[0mkwds\u001b[0m\u001b[1;33m)\u001b[0m\u001b[1;33m\u001b[0m\u001b[1;33m\u001b[0m\u001b[0m\n\u001b[0m\u001b[0;32m    576\u001b[0m \u001b[1;33m\u001b[0m\u001b[0m\n\u001b[0;32m    577\u001b[0m     \u001b[1;32mif\u001b[0m \u001b[0mchunksize\u001b[0m \u001b[1;32mor\u001b[0m \u001b[0miterator\u001b[0m\u001b[1;33m:\u001b[0m\u001b[1;33m\u001b[0m\u001b[1;33m\u001b[0m\u001b[0m\n",
      "\u001b[1;32m~\\anaconda3\\lib\\site-packages\\pandas\\io\\parsers\\readers.py\u001b[0m in \u001b[0;36m__init__\u001b[1;34m(self, f, engine, **kwds)\u001b[0m\n\u001b[0;32m    930\u001b[0m \u001b[1;33m\u001b[0m\u001b[0m\n\u001b[0;32m    931\u001b[0m         \u001b[0mself\u001b[0m\u001b[1;33m.\u001b[0m\u001b[0mhandles\u001b[0m\u001b[1;33m:\u001b[0m \u001b[0mIOHandles\u001b[0m \u001b[1;33m|\u001b[0m \u001b[1;32mNone\u001b[0m \u001b[1;33m=\u001b[0m \u001b[1;32mNone\u001b[0m\u001b[1;33m\u001b[0m\u001b[1;33m\u001b[0m\u001b[0m\n\u001b[1;32m--> 932\u001b[1;33m         \u001b[0mself\u001b[0m\u001b[1;33m.\u001b[0m\u001b[0m_engine\u001b[0m \u001b[1;33m=\u001b[0m \u001b[0mself\u001b[0m\u001b[1;33m.\u001b[0m\u001b[0m_make_engine\u001b[0m\u001b[1;33m(\u001b[0m\u001b[0mf\u001b[0m\u001b[1;33m,\u001b[0m \u001b[0mself\u001b[0m\u001b[1;33m.\u001b[0m\u001b[0mengine\u001b[0m\u001b[1;33m)\u001b[0m\u001b[1;33m\u001b[0m\u001b[1;33m\u001b[0m\u001b[0m\n\u001b[0m\u001b[0;32m    933\u001b[0m \u001b[1;33m\u001b[0m\u001b[0m\n\u001b[0;32m    934\u001b[0m     \u001b[1;32mdef\u001b[0m \u001b[0mclose\u001b[0m\u001b[1;33m(\u001b[0m\u001b[0mself\u001b[0m\u001b[1;33m)\u001b[0m\u001b[1;33m:\u001b[0m\u001b[1;33m\u001b[0m\u001b[1;33m\u001b[0m\u001b[0m\n",
      "\u001b[1;32m~\\anaconda3\\lib\\site-packages\\pandas\\io\\parsers\\readers.py\u001b[0m in \u001b[0;36m_make_engine\u001b[1;34m(self, f, engine)\u001b[0m\n\u001b[0;32m   1214\u001b[0m             \u001b[1;31m# \"Union[str, PathLike[str], ReadCsvBuffer[bytes], ReadCsvBuffer[str]]\"\u001b[0m\u001b[1;33m\u001b[0m\u001b[1;33m\u001b[0m\u001b[0m\n\u001b[0;32m   1215\u001b[0m             \u001b[1;31m# , \"str\", \"bool\", \"Any\", \"Any\", \"Any\", \"Any\", \"Any\"\u001b[0m\u001b[1;33m\u001b[0m\u001b[1;33m\u001b[0m\u001b[0m\n\u001b[1;32m-> 1216\u001b[1;33m             self.handles = get_handle(  # type: ignore[call-overload]\n\u001b[0m\u001b[0;32m   1217\u001b[0m                 \u001b[0mf\u001b[0m\u001b[1;33m,\u001b[0m\u001b[1;33m\u001b[0m\u001b[1;33m\u001b[0m\u001b[0m\n\u001b[0;32m   1218\u001b[0m                 \u001b[0mmode\u001b[0m\u001b[1;33m,\u001b[0m\u001b[1;33m\u001b[0m\u001b[1;33m\u001b[0m\u001b[0m\n",
      "\u001b[1;32m~\\anaconda3\\lib\\site-packages\\pandas\\io\\common.py\u001b[0m in \u001b[0;36mget_handle\u001b[1;34m(path_or_buf, mode, encoding, compression, memory_map, is_text, errors, storage_options)\u001b[0m\n\u001b[0;32m    784\u001b[0m         \u001b[1;32mif\u001b[0m \u001b[0mioargs\u001b[0m\u001b[1;33m.\u001b[0m\u001b[0mencoding\u001b[0m \u001b[1;32mand\u001b[0m \u001b[1;34m\"b\"\u001b[0m \u001b[1;32mnot\u001b[0m \u001b[1;32min\u001b[0m \u001b[0mioargs\u001b[0m\u001b[1;33m.\u001b[0m\u001b[0mmode\u001b[0m\u001b[1;33m:\u001b[0m\u001b[1;33m\u001b[0m\u001b[1;33m\u001b[0m\u001b[0m\n\u001b[0;32m    785\u001b[0m             \u001b[1;31m# Encoding\u001b[0m\u001b[1;33m\u001b[0m\u001b[1;33m\u001b[0m\u001b[0m\n\u001b[1;32m--> 786\u001b[1;33m             handle = open(\n\u001b[0m\u001b[0;32m    787\u001b[0m                 \u001b[0mhandle\u001b[0m\u001b[1;33m,\u001b[0m\u001b[1;33m\u001b[0m\u001b[1;33m\u001b[0m\u001b[0m\n\u001b[0;32m    788\u001b[0m                 \u001b[0mioargs\u001b[0m\u001b[1;33m.\u001b[0m\u001b[0mmode\u001b[0m\u001b[1;33m,\u001b[0m\u001b[1;33m\u001b[0m\u001b[1;33m\u001b[0m\u001b[0m\n",
      "\u001b[1;31mFileNotFoundError\u001b[0m: [Errno 2] No such file or directory: 'demographics.txt'"
     ]
    }
   ],
   "source": [
    "demographics_df = pd.read_csv(\"demographics.txt\", sep=\"\\t\")"
   ]
  },
  {
   "cell_type": "code",
   "execution_count": null,
   "id": "5f2ccdba",
   "metadata": {},
   "outputs": [],
   "source": []
  },
  {
   "cell_type": "code",
   "execution_count": 11,
   "id": "5400eb4c",
   "metadata": {},
   "outputs": [
    {
     "ename": "FileNotFoundError",
     "evalue": "[Errno 2] No such file or directory: 'demographics.txt'",
     "output_type": "error",
     "traceback": [
      "\u001b[1;31m---------------------------------------------------------------------------\u001b[0m",
      "\u001b[1;31mFileNotFoundError\u001b[0m                         Traceback (most recent call last)",
      "\u001b[1;32m~\\AppData\\Local\\Temp\\ipykernel_17104\\3672654656.py\u001b[0m in \u001b[0;36m<module>\u001b[1;34m\u001b[0m\n\u001b[1;32m----> 1\u001b[1;33m \u001b[1;32mwith\u001b[0m \u001b[0mopen\u001b[0m\u001b[1;33m(\u001b[0m\u001b[1;34m\"demographics.txt\"\u001b[0m\u001b[1;33m,\u001b[0m \u001b[1;34m\"r\"\u001b[0m\u001b[1;33m)\u001b[0m \u001b[1;32mas\u001b[0m \u001b[0mfile\u001b[0m\u001b[1;33m:\u001b[0m\u001b[1;33m\u001b[0m\u001b[1;33m\u001b[0m\u001b[0m\n\u001b[0m\u001b[0;32m      2\u001b[0m     \u001b[1;32mfor\u001b[0m \u001b[0mline\u001b[0m \u001b[1;32min\u001b[0m \u001b[0mfile\u001b[0m\u001b[1;33m:\u001b[0m\u001b[1;33m\u001b[0m\u001b[1;33m\u001b[0m\u001b[0m\n\u001b[0;32m      3\u001b[0m         \u001b[0mprint\u001b[0m\u001b[1;33m(\u001b[0m\u001b[0mline\u001b[0m\u001b[1;33m.\u001b[0m\u001b[0mstrip\u001b[0m\u001b[1;33m(\u001b[0m\u001b[1;33m)\u001b[0m\u001b[1;33m)\u001b[0m\u001b[1;33m\u001b[0m\u001b[1;33m\u001b[0m\u001b[0m\n",
      "\u001b[1;31mFileNotFoundError\u001b[0m: [Errno 2] No such file or directory: 'demographics.txt'"
     ]
    }
   ],
   "source": [
    "with open(\"demographics.txt\", \"r\") as file:\n",
    "    for line in file:\n",
    "        print(line.strip())"
   ]
  },
  {
   "cell_type": "code",
   "execution_count": null,
   "id": "14a4da01",
   "metadata": {},
   "outputs": [],
   "source": []
  },
  {
   "cell_type": "code",
   "execution_count": 7,
   "id": "96867b17",
   "metadata": {
    "scrolled": true
   },
   "outputs": [
    {
     "ename": "FileNotFoundError",
     "evalue": "[Errno 2] No such file or directory: 'demographics.txt'",
     "output_type": "error",
     "traceback": [
      "\u001b[1;31m---------------------------------------------------------------------------\u001b[0m",
      "\u001b[1;31mFileNotFoundError\u001b[0m                         Traceback (most recent call last)",
      "\u001b[1;32m~\\AppData\\Local\\Temp\\ipykernel_17104\\3672654656.py\u001b[0m in \u001b[0;36m<module>\u001b[1;34m\u001b[0m\n\u001b[1;32m----> 1\u001b[1;33m \u001b[1;32mwith\u001b[0m \u001b[0mopen\u001b[0m\u001b[1;33m(\u001b[0m\u001b[1;34m\"demographics.txt\"\u001b[0m\u001b[1;33m,\u001b[0m \u001b[1;34m\"r\"\u001b[0m\u001b[1;33m)\u001b[0m \u001b[1;32mas\u001b[0m \u001b[0mfile\u001b[0m\u001b[1;33m:\u001b[0m\u001b[1;33m\u001b[0m\u001b[1;33m\u001b[0m\u001b[0m\n\u001b[0m\u001b[0;32m      2\u001b[0m     \u001b[1;32mfor\u001b[0m \u001b[0mline\u001b[0m \u001b[1;32min\u001b[0m \u001b[0mfile\u001b[0m\u001b[1;33m:\u001b[0m\u001b[1;33m\u001b[0m\u001b[1;33m\u001b[0m\u001b[0m\n\u001b[0;32m      3\u001b[0m         \u001b[0mprint\u001b[0m\u001b[1;33m(\u001b[0m\u001b[0mline\u001b[0m\u001b[1;33m.\u001b[0m\u001b[0mstrip\u001b[0m\u001b[1;33m(\u001b[0m\u001b[1;33m)\u001b[0m\u001b[1;33m)\u001b[0m\u001b[1;33m\u001b[0m\u001b[1;33m\u001b[0m\u001b[0m\n",
      "\u001b[1;31mFileNotFoundError\u001b[0m: [Errno 2] No such file or directory: 'demographics.txt'"
     ]
    }
   ],
   "source": [
    "with open(\"demographics.txt\", \"r\") as file:\n",
    "    for line in file:\n",
    "        print(line.strip())"
   ]
  },
  {
   "cell_type": "code",
   "execution_count": null,
   "id": "8f050e2d",
   "metadata": {},
   "outputs": [],
   "source": []
  },
  {
   "cell_type": "code",
   "execution_count": null,
   "id": "ab55977d",
   "metadata": {},
   "outputs": [],
   "source": []
  },
  {
   "cell_type": "code",
   "execution_count": 8,
   "id": "571b897d",
   "metadata": {},
   "outputs": [],
   "source": [
    "campaign_file_path = \"C:/Users/HP/Desktop/Retail_Sales_ABADS/campaign.json\""
   ]
  },
  {
   "cell_type": "code",
   "execution_count": null,
   "id": "6554ae73",
   "metadata": {},
   "outputs": [],
   "source": []
  },
  {
   "cell_type": "code",
   "execution_count": 9,
   "id": "8f1cd314",
   "metadata": {},
   "outputs": [],
   "source": [
    "behaviour_file_path = \"C:/Users/HP/Desktop/Retail_Sales_ABADS/behaviour.json\""
   ]
  },
  {
   "cell_type": "code",
   "execution_count": null,
   "id": "f0498839",
   "metadata": {},
   "outputs": [],
   "source": []
  },
  {
   "cell_type": "code",
   "execution_count": 10,
   "id": "d6a196bd",
   "metadata": {},
   "outputs": [],
   "source": [
    "with open(campaign_file_path, \"r\") as campaign_file:\n",
    "    campaign_data = json.load(campaign_file)"
   ]
  },
  {
   "cell_type": "code",
   "execution_count": null,
   "id": "fa86a5dc",
   "metadata": {},
   "outputs": [],
   "source": []
  },
  {
   "cell_type": "code",
   "execution_count": null,
   "id": "677f8866",
   "metadata": {
    "scrolled": true
   },
   "outputs": [],
   "source": [
    "data=pd.DataFrame()"
   ]
  },
  {
   "cell_type": "code",
   "execution_count": null,
   "id": "04363052",
   "metadata": {},
   "outputs": [],
   "source": [
    "for entry in campaign_data:\n",
    "    for key,value in entry.items():\n",
    "        row_data={\"ID\":key,**value}\n",
    "        \n",
    "        data=pd.concat([data,pd.DataFrame([row_data])],ignore_index=True)"
   ]
  },
  {
   "cell_type": "code",
   "execution_count": null,
   "id": "40d1a592",
   "metadata": {},
   "outputs": [],
   "source": [
    "with open(behaviour_file_path, \"r\") as behaviour_file:\n",
    "    behaviour_data = json.load(behaviour_file)"
   ]
  },
  {
   "cell_type": "code",
   "execution_count": null,
   "id": "49481d87",
   "metadata": {},
   "outputs": [],
   "source": [
    "data2=pd.DataFrame()"
   ]
  },
  {
   "cell_type": "code",
   "execution_count": null,
   "id": "933d549d",
   "metadata": {},
   "outputs": [],
   "source": [
    "for entry in behaviour_data:\n",
    "    for key,value in entry.items():\n",
    "        row_data2={\"ID\":key,**value}\n",
    "        data2=pd.concat([data2,pd.DataFrame([row_data2])],ignore_index=True)"
   ]
  },
  {
   "cell_type": "code",
   "execution_count": null,
   "id": "1a7a9386",
   "metadata": {},
   "outputs": [],
   "source": [
    "data['ID'] = data['ID'].str.replace('ID_', '')"
   ]
  },
  {
   "cell_type": "code",
   "execution_count": null,
   "id": "447e3d06",
   "metadata": {},
   "outputs": [],
   "source": [
    "data2['ID'] = data2['ID'].str.replace('ID_', '')"
   ]
  },
  {
   "cell_type": "code",
   "execution_count": null,
   "id": "b2cdbe0a",
   "metadata": {},
   "outputs": [],
   "source": [
    "campaign_df = pd.DataFrame(data)"
   ]
  },
  {
   "cell_type": "code",
   "execution_count": null,
   "id": "ec29d720",
   "metadata": {},
   "outputs": [],
   "source": [
    "behavior_df = pd.DataFrame(data2)"
   ]
  },
  {
   "cell_type": "code",
   "execution_count": null,
   "id": "ac1b3584",
   "metadata": {},
   "outputs": [],
   "source": [
    "demographics_df = pd.read_csv(\"demographics.txt\", sep=\"\\t\")"
   ]
  },
  {
   "cell_type": "code",
   "execution_count": 12,
   "id": "44575daf",
   "metadata": {},
   "outputs": [
    {
     "ename": "NameError",
     "evalue": "name 'demographics_df' is not defined",
     "output_type": "error",
     "traceback": [
      "\u001b[1;31m---------------------------------------------------------------------------\u001b[0m",
      "\u001b[1;31mNameError\u001b[0m                                 Traceback (most recent call last)",
      "\u001b[1;32m~\\AppData\\Local\\Temp\\ipykernel_17104\\2867035545.py\u001b[0m in \u001b[0;36m<module>\u001b[1;34m\u001b[0m\n\u001b[1;32m----> 1\u001b[1;33m \u001b[0mdemographics_df\u001b[0m\u001b[1;33m[\u001b[0m\u001b[1;34m'ID'\u001b[0m\u001b[1;33m]\u001b[0m \u001b[1;33m=\u001b[0m \u001b[0mdemographics_df\u001b[0m\u001b[1;33m[\u001b[0m\u001b[1;34m'ID'\u001b[0m\u001b[1;33m]\u001b[0m\u001b[1;33m.\u001b[0m\u001b[0mastype\u001b[0m\u001b[1;33m(\u001b[0m\u001b[0mstr\u001b[0m\u001b[1;33m)\u001b[0m\u001b[1;33m\u001b[0m\u001b[1;33m\u001b[0m\u001b[0m\n\u001b[0m",
      "\u001b[1;31mNameError\u001b[0m: name 'demographics_df' is not defined"
     ]
    }
   ],
   "source": [
    "demographics_df['ID'] = demographics_df['ID'].astype(str)"
   ]
  },
  {
   "cell_type": "code",
   "execution_count": null,
   "id": "ac55d1eb",
   "metadata": {},
   "outputs": [],
   "source": []
  },
  {
   "cell_type": "code",
   "execution_count": null,
   "id": "e4a54a21",
   "metadata": {},
   "outputs": [],
   "source": [
    "consolidated_df = pd.merge(pd.merge(demographics_df, behavior_df, on='ID'), campaign_df, on='ID')"
   ]
  },
  {
   "cell_type": "code",
   "execution_count": null,
   "id": "7278ea8a",
   "metadata": {},
   "outputs": [],
   "source": [
    "consolidated_df.shape"
   ]
  },
  {
   "cell_type": "code",
   "execution_count": null,
   "id": "83a77efc",
   "metadata": {},
   "outputs": [],
   "source": [
    "consolidated_df"
   ]
  },
  {
   "cell_type": "code",
   "execution_count": null,
   "id": "ad2a683c",
   "metadata": {},
   "outputs": [],
   "source": [
    "null_values = consolidated_df.isnull().sum()"
   ]
  },
  {
   "cell_type": "code",
   "execution_count": null,
   "id": "afd30644",
   "metadata": {},
   "outputs": [],
   "source": [
    "null_values"
   ]
  },
  {
   "cell_type": "code",
   "execution_count": null,
   "id": "fa3f319c",
   "metadata": {},
   "outputs": [],
   "source": [
    "blank_values = (consolidated_df == '').sum()"
   ]
  },
  {
   "cell_type": "code",
   "execution_count": null,
   "id": "4edb98a3",
   "metadata": {},
   "outputs": [],
   "source": [
    "print(consolidated_df.dtypes)"
   ]
  },
  {
   "cell_type": "code",
   "execution_count": null,
   "id": "07c4d00d",
   "metadata": {},
   "outputs": [],
   "source": [
    "consolidated_df[' Income '].fillna(0, inplace=True)"
   ]
  },
  {
   "cell_type": "code",
   "execution_count": null,
   "id": "ed02a493",
   "metadata": {},
   "outputs": [],
   "source": [
    "consolidated_df[' Income '] = consolidated_df[' Income '].str.replace('$', '').str.replace(',', '').astype(float)"
   ]
  },
  {
   "cell_type": "code",
   "execution_count": null,
   "id": "be122c06",
   "metadata": {
    "scrolled": true
   },
   "outputs": [],
   "source": [
    "print(consolidated_df[' Income '].dtype)"
   ]
  },
  {
   "cell_type": "code",
   "execution_count": null,
   "id": "40cf0ce8",
   "metadata": {},
   "outputs": [],
   "source": [
    "consolidated_df[' Income '].fillna(0, inplace=True)"
   ]
  },
  {
   "cell_type": "code",
   "execution_count": null,
   "id": "66955d99",
   "metadata": {},
   "outputs": [],
   "source": [
    "consolidated_df[' Income '] = consolidated_df[' Income '].astype(int)"
   ]
  },
  {
   "cell_type": "code",
   "execution_count": null,
   "id": "485eaed1",
   "metadata": {},
   "outputs": [],
   "source": [
    "consolidated_df.rename(columns={' Income ': 'RealIncome'}, inplace=True)"
   ]
  },
  {
   "cell_type": "code",
   "execution_count": null,
   "id": "76a19724",
   "metadata": {},
   "outputs": [],
   "source": [
    "consolidated_df['Dt_Customer'] = pd.to_datetime(consolidated_df['Dt_Customer'], format='%m/%d/%y')"
   ]
  },
  {
   "cell_type": "code",
   "execution_count": null,
   "id": "180995c1",
   "metadata": {},
   "outputs": [],
   "source": [
    "##Doing univariates for continuous variables (compute: percentage of missingvalues"
   ]
  },
  {
   "cell_type": "code",
   "execution_count": null,
   "id": "3db4db1d",
   "metadata": {},
   "outputs": [],
   "source": [
    "continuous_variables = consolidated_df.select_dtypes(include=['int64', 'float64']).columns"
   ]
  },
  {
   "cell_type": "code",
   "execution_count": null,
   "id": "e41f4761",
   "metadata": {},
   "outputs": [],
   "source": [
    "missing_percentage = (consolidated_df[continuous_variables].isnull().sum() / len(consolidated_df)) * 100"
   ]
  },
  {
   "cell_type": "code",
   "execution_count": null,
   "id": "44e96d79",
   "metadata": {},
   "outputs": [],
   "source": [
    "print(\"Percentage of missing values for continuous variables:\")\n",
    "print(missing_percentage)"
   ]
  },
  {
   "cell_type": "code",
   "execution_count": null,
   "id": "26919711",
   "metadata": {},
   "outputs": [],
   "source": [
    "stats = consolidated_df.describe(percentiles=[0.25, 0.5, 0.75, 0.90, 0.95])"
   ]
  },
  {
   "cell_type": "code",
   "execution_count": null,
   "id": "978f0fca",
   "metadata": {},
   "outputs": [],
   "source": [
    "zero_percentage = ((consolidated_df[continuous_variables] == 0).sum() / len(consolidated_df)) * 100"
   ]
  },
  {
   "cell_type": "code",
   "execution_count": null,
   "id": "004e4654",
   "metadata": {},
   "outputs": [],
   "source": [
    "statistics_with_zero_percentage = pd.concat([stats, zero_percentage.rename('Zero Percentage')], axis=0)"
   ]
  },
  {
   "cell_type": "code",
   "execution_count": null,
   "id": "e1d51903",
   "metadata": {},
   "outputs": [],
   "source": [
    "print(\"Statistics with percentage of zero values for continuous variables:\")\n",
    "print(statistics_with_zero_percentage)"
   ]
  },
  {
   "cell_type": "code",
   "execution_count": null,
   "id": "fe7d30a0",
   "metadata": {},
   "outputs": [],
   "source": [
    "##Doing univariates for categorical variables (compute:percentage of missingvalues, number of unique values)"
   ]
  },
  {
   "cell_type": "code",
   "execution_count": null,
   "id": "619bc3e5",
   "metadata": {},
   "outputs": [],
   "source": [
    "missing_percentage_categorical = (consolidated_df.select_dtypes(include='object').isnull().mean() * 100).rename('missing_percentage')"
   ]
  },
  {
   "cell_type": "code",
   "execution_count": null,
   "id": "6e581378",
   "metadata": {},
   "outputs": [],
   "source": [
    "unique_count_categorical = consolidated_df.select_dtypes(include='object').nunique().rename('unique_count')"
   ]
  },
  {
   "cell_type": "code",
   "execution_count": null,
   "id": "526845dd",
   "metadata": {},
   "outputs": [],
   "source": [
    "categorical_univariates = pd.concat([missing_percentage_categorical, unique_count_categorical], axis=1)"
   ]
  },
  {
   "cell_type": "code",
   "execution_count": null,
   "id": "79118f54",
   "metadata": {},
   "outputs": [],
   "source": [
    "print(\"Univariates for categorical variables:\")\n",
    "print(categorical_univariates)"
   ]
  },
  {
   "cell_type": "code",
   "execution_count": null,
   "id": "a2312c38",
   "metadata": {},
   "outputs": [],
   "source": [
    "##Are there any extreme values of variables representing income, amount of money spent on various categories, recency of purchase?"
   ]
  },
  {
   "cell_type": "code",
   "execution_count": null,
   "id": "f056963f",
   "metadata": {},
   "outputs": [],
   "source": [
    "import matplotlib.pyplot as plt\n",
    "import seaborn as sns\n",
    "continuous_variables = ['RealIncome', 'MntWines', 'MntFruits', 'MntMeatProducts', 'MntFishProducts', \n",
    "                        'MntSweetProducts', 'MntGoldProds', 'Recency']\n"
   ]
  },
  {
   "cell_type": "code",
   "execution_count": null,
   "id": "761e5607",
   "metadata": {},
   "outputs": [],
   "source": [
    "plt.figure(figsize=(12, 8))\n",
    "sns.boxplot(data=consolidated_df[continuous_variables])\n",
    "plt.title('Boxplots of Continuous Variables', fontsize=16)\n",
    "plt.xticks(rotation=45)\n",
    "plt.xlabel('Variables', fontsize=14)\n",
    "plt.ylabel('Values', fontsize=14)\n",
    "plt.show()"
   ]
  },
  {
   "cell_type": "code",
   "execution_count": null,
   "id": "26c321a1",
   "metadata": {},
   "outputs": [],
   "source": [
    "## in more detialed"
   ]
  },
  {
   "cell_type": "code",
   "execution_count": null,
   "id": "dba2b09a",
   "metadata": {},
   "outputs": [],
   "source": [
    "plt.figure(figsize=(12, 8))\n",
    "sns.boxplot(data=consolidated_df[continuous_variables])\n",
    "plt.title('Boxplots of Continuous Variables', fontsize=16)\n",
    "plt.xticks(rotation=45)\n",
    "plt.xlabel('Variables', fontsize=14)\n",
    "plt.ylabel('Values', fontsize=14)\n",
    "plt.ylim(0, 1000)\n",
    "plt.show()"
   ]
  },
  {
   "cell_type": "code",
   "execution_count": null,
   "id": "f5cb09ee",
   "metadata": {},
   "outputs": [],
   "source": [
    "income_variables = ['RealIncome']\n",
    "spending_variables = ['MntWines', 'MntFruits', 'MntMeatProducts', 'MntFishProducts', 'MntSweetProducts', 'MntGoldProds']\n",
    "recency_variable = 'Recency'\n",
    "\n",
    "# Define the Threshold for Extreme Values\n",
    "threshold = 3  # Adjust threshold based on business context and data characteristics\n",
    "\n",
    "# Check for Extreme Values\n",
    "\n",
    "# Check for extreme values in income variables\n",
    "for income_var in income_variables:\n",
    "    max_income = consolidated_df[income_var].max()\n",
    "    min_income = consolidated_df[income_var].min()\n",
    "    if max_income > threshold or min_income < -threshold:\n",
    "        print(f\"Hypothesis Testing for Extreme Values in {income_var}:\")\n",
    "        print(f\"Max income: {max_income}, Min income: {min_income}\")\n",
    "        print(\"Conclusion: Reject H0; Extreme values exist.\")\n",
    "        print()\n",
    "\n",
    "# Check for extreme values in spending variables\n",
    "for spending_var in spending_variables:\n",
    "    max_spending = consolidated_df[spending_var].max()\n",
    "    min_spending = consolidated_df[spending_var].min()\n",
    "    if max_spending > threshold or min_spending < -threshold:\n",
    "        print(f\"Hypothesis Testing for Extreme Values in {spending_var}:\")\n",
    "        print(f\"Max spending: {max_spending}, Min spending: {min_spending}\")\n",
    "        print(\"Conclusion: Reject H0; Extreme values exist.\")\n",
    "        print()\n",
    "\n",
    "# Check for extreme values in recency variable\n",
    "max_recency = consolidated_df[recency_variable].max()\n",
    "min_recency = consolidated_df[recency_variable].min()\n",
    "if max_recency > threshold or min_recency < -threshold:\n",
    "    print(f\"Hypothesis Testing for Extreme Values in {recency_variable}:\")\n",
    "    print(f\"Max recency: {max_recency}, Min recency: {min_recency}\")\n",
    "    print(\"Conclusion: Reject H0; Extreme values exist.\")\n",
    "    print()"
   ]
  },
  {
   "cell_type": "code",
   "execution_count": null,
   "id": "ff51ca10",
   "metadata": {},
   "outputs": [],
   "source": [
    "# Business Basis:\n",
    "# Extreme values in income, spending, and recency variables can significantly impact business analysis, affecting customer segmentation, targeting, and overall strategy. Detecting extreme values helps ensure data accuracy and reliability in decision-making processes.\n",
    "\n",
    "# Hypothesis:\n",
    "# H0: There are no extreme values in the income, spending, and recency variables.\n",
    "# H1: There exist extreme values in the income, spending, and recency variables.\n",
    "\n",
    "# Variables of Interest:\n",
    "#   - Income Variables: RealIncome\n",
    "#   - Spending Variables: MntWines, MntFruits, MntMeatProducts, MntFishProducts, MntSweetProducts, MntGoldProds\n",
    "#   - Recency Variable: Recency\n",
    "\n",
    "# Threshold for Extreme Values:\n",
    "threshold = 3  # Adjust threshold based on business context and data characteristics\n",
    "\n",
    "# Results:\n",
    "#   - Extreme values detected in income variables: RealIncome\n",
    "#   - Extreme values detected in spending variables: None\n",
    "#   - Extreme values detected in recency variable: None\n",
    "\n",
    "## Conclusion: Reject H0; Extreme values exist in the RealIncome variable. No extreme values detected in spending and recency variables.\n"
   ]
  },
  {
   "cell_type": "code",
   "execution_count": null,
   "id": "87674a47",
   "metadata": {},
   "outputs": [],
   "source": []
  },
  {
   "cell_type": "code",
   "execution_count": null,
   "id": "d10aea3d",
   "metadata": {},
   "outputs": [],
   "source": []
  },
  {
   "cell_type": "code",
   "execution_count": null,
   "id": "819683dc",
   "metadata": {},
   "outputs": [],
   "source": [
    "##Generate and check hypothesis around Amount Spent on different categories and response rate in different marketing campaigns."
   ]
  },
  {
   "cell_type": "code",
   "execution_count": null,
   "id": "7296bdf6",
   "metadata": {},
   "outputs": [],
   "source": [
    "import pandas as pd\n",
    "import numpy as np\n",
    "from scipy.stats import ttest_ind, f_oneway, chi2_contingency\n",
    "import matplotlib.pyplot as plt\n",
    "import seaborn as sns\n",
    "\n",
    "# Assuming consolidated_df is already defined\n",
    "\n",
    "campaigns = ['AcceptedCmp1', 'AcceptedCmp2', 'AcceptedCmp3', 'AcceptedCmp4', 'AcceptedCmp5']\n",
    "\n",
    "for campaign in campaigns:\n",
    "    \n",
    "    # T-test for comparing means between responders and non-responders\n",
    "    responders = consolidated_df[consolidated_df[campaign] == 1]['MntWines']\n",
    "    non_responders = consolidated_df[consolidated_df[campaign] == 0]['MntWines']\n",
    "    t_stat, p_value = ttest_ind(responders, non_responders)\n",
    "    \n",
    "    # ANOVA for comparing means across all campaigns\n",
    "    wines_by_campaign = [consolidated_df[consolidated_df[c] == 1]['MntWines'] for c in campaigns]\n",
    "    f_stat, f_p_value = f_oneway(*wines_by_campaign)\n",
    "    \n",
    "    # Chi-square test for relationship between campaign response and wine spending category\n",
    "    contingency_table = pd.crosstab(consolidated_df[campaign], pd.cut(consolidated_df['MntWines'], bins=[0, 100, 200, 300, np.inf], labels=['0-100', '101-200', '201-300', '301+']))\n",
    "    chi2_stat, chi2_p_value, _, _ = chi2_contingency(contingency_table)\n",
    "    \n",
    "    # Print results\n",
    "    print(f\"Results for {campaign}:\")\n",
    "    print(f\"T-test p-value: {p_value}\")\n",
    "    print(f\"ANOVA p-value: {f_p_value}\")\n",
    "    print(f\"Chi-square p-value: {chi2_p_value}\")\n",
    "    print(\"-\" * 50)\n",
    "    \n",
    "    # Visualization\n",
    "    plt.figure(figsize=(12, 6))\n",
    "    sns.boxplot(x=campaign, y='MntWines', data=consolidated_df)\n",
    "    plt.title(f'Amount Spent on Wines by Response to {campaign}', fontsize=16)\n",
    "    plt.xlabel(f'Response to {campaign}', fontsize=14)\n",
    "    plt.ylabel('Amount Spent on Wines', fontsize=14)\n",
    "    plt.xticks([0, 1], ['Non-Responders', 'Responders'])\n",
    "    plt.show()\n",
    "    \n",
    "    # Null Hypothesis Testing\n",
    "    if p_value < 0.05:\n",
    "        print(f\"Reject Null Hypothesis for {campaign}: There is a significant difference in the amount spent on wines.\")\n",
    "    else:\n",
    "        print(f\"Fail to Reject Null Hypothesis for {campaign}: There is no significant difference in the amount spent on wines.\")"
   ]
  },
  {
   "cell_type": "code",
   "execution_count": null,
   "id": "77a42469",
   "metadata": {},
   "outputs": [],
   "source": [
    "##Create a funnel analysis showing what percentage of unique customers accept campaign 1,2, 3,..etc"
   ]
  },
  {
   "cell_type": "code",
   "execution_count": null,
   "id": "4029ea43",
   "metadata": {},
   "outputs": [],
   "source": [
    "import pandas as pd\n",
    "from scipy.stats import chi2_contingency, f_oneway\n",
    "\n",
    "# Define campaigns\n",
    "campaigns = ['AcceptedCmp1', 'AcceptedCmp2', 'AcceptedCmp3', 'AcceptedCmp4', 'AcceptedCmp5']\n",
    "\n",
    "# Initialize dictionary to store funnel data\n",
    "funnel_data = {'Campaign': [], 'Unique_Customers': [], 'Accepted_Customers': [], 'Acceptance_Rate': [], 'Rejected_Customers': [], 'Chi2_P_Value': [], 'ANOVA_P_Value': []}\n",
    "\n",
    "# Iterate over campaigns\n",
    "for campaign in campaigns:\n",
    "    # Calculate total customers\n",
    "    total_customers = consolidated_df[campaign].nunique()\n",
    "    \n",
    "    # Calculate accepted customers\n",
    "    accepted_customers = consolidated_df[consolidated_df[campaign] == 1]['ID'].nunique()\n",
    "    \n",
    "    # Calculate acceptance rate\n",
    "    acceptance_rate = (accepted_customers / total_customers) * 100 if total_customers != 0 else 0\n",
    "    \n",
    "    # Calculate rejected customers\n",
    "    rejected_customers = total_customers - accepted_customers\n",
    "    \n",
    "    # Chi-square test for relationship between campaign response and customer acceptance\n",
    "    contingency_table = pd.crosstab(consolidated_df[campaign], consolidated_df['Response'])\n",
    "    chi2_stat, chi2_p_value, _, _ = chi2_contingency(contingency_table)\n",
    "    \n",
    "    # ANOVA test for comparing acceptance rates across campaigns\n",
    "    acceptance_rates = [consolidated_df[consolidated_df[c] == 1]['Response'] for c in campaigns]\n",
    "    f_stat, anova_p_value = f_oneway(*acceptance_rates)\n",
    "    \n",
    "    # Append data to dictionary\n",
    "    funnel_data['Campaign'].append(campaign)\n",
    "    funnel_data['Unique_Customers'].append(total_customers)\n",
    "    funnel_data['Accepted_Customers'].append(accepted_customers)\n",
    "    funnel_data['Acceptance_Rate'].append(acceptance_rate)\n",
    "    funnel_data['Rejected_Customers'].append(rejected_customers)\n",
    "    funnel_data['Chi2_P_Value'].append(chi2_p_value)\n",
    "    funnel_data['ANOVA_P_Value'].append(anova_p_value)\n",
    "\n",
    "# Create DataFrame\n",
    "funnel_df = pd.DataFrame(funnel_data)\n",
    "\n",
    "# Print DataFrame\n",
    "print(funnel_df)"
   ]
  },
  {
   "cell_type": "code",
   "execution_count": null,
   "id": "793a9cd7",
   "metadata": {},
   "outputs": [],
   "source": [
    "##Find out how income impacts the amount spent on - Wine - Meat Products - Gold Products - Fish Products"
   ]
  },
  {
   "cell_type": "code",
   "execution_count": null,
   "id": "f0dd1bf3",
   "metadata": {},
   "outputs": [],
   "source": [
    "import numpy as np\n",
    "from sklearn.linear_model import LinearRegression\n",
    "\n",
    "\n",
    "X = consolidated_df[['RealIncome']]\n",
    "y_wine = consolidated_df['MntWines']\n",
    "y_meat = consolidated_df['MntMeatProducts']\n",
    "y_gold = consolidated_df['MntGoldProds']\n",
    "y_fish = consolidated_df['MntFishProducts']\n",
    "\n",
    "\n",
    "model_wine = LinearRegression()\n",
    "model_meat = LinearRegression()\n",
    "model_gold = LinearRegression()\n",
    "model_fish = LinearRegression()\n",
    "\n",
    "\n",
    "model_wine.fit(X, y_wine)\n",
    "model_meat.fit(X, y_meat)\n",
    "model_gold.fit(X, y_gold)\n",
    "model_fish.fit(X, y_fish)\n",
    "\n",
    "\n",
    "print(\"Wine Spending Coefficient:\", model_wine.coef_[0])\n",
    "print(\"Meat Products Spending Coefficient:\", model_meat.coef_[0])\n",
    "print(\"Gold Products Spending Coefficient:\", model_gold.coef_[0])\n",
    "print(\"Fish Products Spending Coefficient:\", model_fish.coef_[0])\n",
    "\n",
    "\n",
    "print(\"Wine Spending Intercept:\", model_wine.intercept_)\n",
    "print(\"Meat Products Spending Intercept:\", model_meat.intercept_)\n",
    "print(\"Gold Products Spending Intercept:\", model_gold.intercept_)\n",
    "print(\"Fish Products Spending Intercept:\", model_fish.intercept_)"
   ]
  },
  {
   "cell_type": "code",
   "execution_count": null,
   "id": "2a7d4141",
   "metadata": {},
   "outputs": [],
   "source": [
    "##Do people who accept the offer in the first campaign also accept in any othercampaign?"
   ]
  },
  {
   "cell_type": "code",
   "execution_count": null,
   "id": "477a6c81",
   "metadata": {},
   "outputs": [],
   "source": [
    "from scipy.stats import ttest_ind\n",
    "\n",
    "# Assuming 'Recency' is a variable representing the age of customers\n",
    "recent_customers = consolidated_df[consolidated_df['Recency'] <= 30]  # Recent customers (e.g., within 30 days)\n",
    "older_customers = consolidated_df[consolidated_df['Recency'] > 30]    # Older customers (e.g., more than 30 days)\n",
    "\n",
    "# Perform t-test\n",
    "t_stat, p_value = ttest_ind(recent_customers['Complain'], older_customers['Complain'])\n",
    "\n",
    "# Print results\n",
    "print(\"T-Test:\")\n",
    "print(\"T-statistic:\", t_stat)\n",
    "print(\"P-value:\", p_value)\n",
    "\n",
    "if p_value < 0.05:\n",
    "    print(\"Reject Null Hypothesis: There is a significant difference in the mean number of complaints.\")\n",
    "else:\n",
    "    print(\"Fail to Reject Null Hypothesis: There is no significant difference in the mean number of complaints.\")"
   ]
  },
  {
   "cell_type": "code",
   "execution_count": null,
   "id": "2f4fd5ea",
   "metadata": {},
   "outputs": [],
   "source": [
    "from scipy.stats import f_oneway\n",
    "\n",
    "# Assuming 'Recency' is a variable representing the age of customers\n",
    "recent_customers = consolidated_df[consolidated_df['Recency'] <= 30]['Complain']  # Complaints for recent customers (e.g., within 30 days)\n",
    "older_customers = consolidated_df[consolidated_df['Recency'] > 30]['Complain']    # Complaints for older customers (e.g., more than 30 days)\n",
    "\n",
    "# Perform ANOVA test\n",
    "f_stat, p_value_anova = f_oneway(recent_customers, older_customers)\n",
    "\n",
    "# Print results\n",
    "print(\"ANOVA Test:\")\n",
    "print(\"F-statistic:\", f_stat)\n",
    "print(\"P-value:\", p_value_anova)\n",
    "\n",
    "if p_value_anova < 0.05:\n",
    "    print(\"Reject Null Hypothesis: There is a significant difference in the mean number of complaints.\")\n",
    "else:\n",
    "    print(\"Fail to Reject Null Hypothesis: There is no significant difference in the mean number of complaints.\")"
   ]
  },
  {
   "cell_type": "code",
   "execution_count": null,
   "id": "638fae56",
   "metadata": {
    "scrolled": true
   },
   "outputs": [],
   "source": []
  },
  {
   "cell_type": "code",
   "execution_count": null,
   "id": "e7cbb58c",
   "metadata": {},
   "outputs": [],
   "source": []
  },
  {
   "cell_type": "code",
   "execution_count": null,
   "id": "fac28025",
   "metadata": {},
   "outputs": [],
   "source": [
    "# Create a contingency table\n",
    "contingency_table = pd.crosstab(consolidated_df['Recency'] <= 30, consolidated_df['Complain'])\n",
    "\n",
    "# Perform chi-square test\n",
    "chi2_stat, p_value_chi, dof, expected = chi2_contingency(contingency_table)\n",
    "\n",
    "# Print results\n",
    "print(\"Chi-Square Test:\")\n",
    "print(\"Chi-Square Statistic:\", chi2_stat)\n",
    "print(\"Degrees of Freedom:\", dof)\n",
    "print(\"P-value:\", p_value_chi)\n",
    "\n",
    "if p_value_chi < 0.05:\n",
    "    print(\"Reject Null Hypothesis: There is a significant relationship between recency and complaint status.\")\n",
    "else:\n",
    "    print(\"Fail to Reject Null Hypothesis: There is no significant relationship between recency and complaint status.\")"
   ]
  },
  {
   "cell_type": "code",
   "execution_count": null,
   "id": "ea740be0",
   "metadata": {},
   "outputs": [],
   "source": [
    "## Used 3 techinques to check hypothesis which show there is no such relationship between recency and complain status"
   ]
  },
  {
   "cell_type": "code",
   "execution_count": null,
   "id": "a1e1de42",
   "metadata": {},
   "outputs": [],
   "source": [
    "##Do people who accept the offer in the first campaign also accept in any othercampaign?"
   ]
  },
  {
   "cell_type": "code",
   "execution_count": null,
   "id": "c6a0c21d",
   "metadata": {},
   "outputs": [],
   "source": [
    "import pandas as pd\n",
    "\n",
    "campaign_columns = ['AcceptedCmp1', 'AcceptedCmp2', 'AcceptedCmp3', 'AcceptedCmp4', 'AcceptedCmp5']\n",
    "\n",
    "for campaign_column in campaign_columns:\n",
    "    cross_tab = pd.crosstab(consolidated_df['AcceptedCmp1'], consolidated_df[campaign_column])\n",
    "    print(f\"Contingency table for {campaign_column}:\")\n",
    "    print(cross_tab)\n",
    "    print('\\n')"
   ]
  },
  {
   "cell_type": "code",
   "execution_count": null,
   "id": "1570d70e",
   "metadata": {},
   "outputs": [],
   "source": [
    "## AcceptedCmp1:\n",
    "##    - Majority of customers who responded to 'AcceptedCmp1' did not respond to other campaigns ('AcceptedCmp2' to 'AcceptedCmp5').\n",
    "##    - A small portion of customers responded to both 'AcceptedCmp1' and other campaigns.\n",
    "##\n",
    "## AcceptedCmp2:\n",
    "##    - Similar to 'AcceptedCmp1', most customers who responded to 'AcceptedCmp2' did not respond to other campaigns.\n",
    "##    - There are fewer customers who responded to both 'AcceptedCmp1' and 'AcceptedCmp2' compared to those who responded only to 'AcceptedCmp2'.\n",
    "##\n",
    "## AcceptedCmp3:\n",
    "##    - More customers responded to 'AcceptedCmp3' compared to 'AcceptedCmp1' and 'AcceptedCmp2'.\n",
    "##    - However, the majority of customers who responded to 'AcceptedCmp3' did not respond to 'AcceptedCmp1' or 'AcceptedCmp2'.\n",
    "##    - There is a notable overlap between customers who responded to 'AcceptedCmp1' and 'AcceptedCmp3'.\n",
    "##\n",
    "## AcceptedCmp4:\n",
    "##    - Similar to 'AcceptedCmp3', more customers responded to 'AcceptedCmp4'.\n",
    "##    - Majority of customers who responded to 'AcceptedCmp4' did not respond to 'AcceptedCmp1' or 'AcceptedCmp2'.\n",
    "##    - There is a smaller overlap between customers who responded to 'AcceptedCmp1' and 'AcceptedCmp4' compared to 'AcceptedCmp3'.\n",
    "##\n",
    "## AcceptedCmp5:\n",
    "##    - Relatively fewer customers responded to 'AcceptedCmp5' compared to other campaigns.\n",
    "##    - Similar to other campaigns, most customers who responded to 'AcceptedCmp5' did not respond to 'AcceptedCmp1' or 'AcceptedCmp2'.\n",
    "##    - There is a moderate overlap between customers who responded to 'AcceptedCmp1' and 'AcceptedCmp5'."
   ]
  },
  {
   "cell_type": "code",
   "execution_count": null,
   "id": "caa6ebb8",
   "metadata": {},
   "outputs": [],
   "source": [
    "##Profile of people who respond vs. who don’t."
   ]
  },
  {
   "cell_type": "code",
   "execution_count": null,
   "id": "b268ec7d",
   "metadata": {},
   "outputs": [],
   "source": []
  },
  {
   "cell_type": "code",
   "execution_count": null,
   "id": "6cd31e19",
   "metadata": {},
   "outputs": [],
   "source": [
    "import matplotlib.pyplot as plt\n",
    "import seaborn as sns\n",
    "\n",
    "# Distribution of Web Visits per Month by Response\n",
    "plt.figure(figsize=(12, 6))\n",
    "sns.histplot(data=consolidated_df, x='NumWebVisitsMonth', hue='Response', bins=20, kde=True)\n",
    "plt.title('Distribution of Web Visits per Month by Response')\n",
    "plt.xlabel('Number of Web Visits per Month')\n",
    "plt.ylabel('Count')\n",
    "plt.show()\n",
    "\n",
    "# Profile based on campaign response\n",
    "campaign_columns = ['AcceptedCmp1', 'AcceptedCmp2', 'AcceptedCmp3', 'AcceptedCmp4', 'AcceptedCmp5']\n",
    "campaign_response = consolidated_df[campaign_columns].sum()\n",
    "\n",
    "plt.figure(figsize=(8, 6))\n",
    "campaign_response.plot(kind='bar')\n",
    "plt.title('Campaign Response Counts')\n",
    "plt.xlabel('Campaign')\n",
    "plt.ylabel('Count')\n",
    "plt.xticks(rotation=45)\n",
    "plt.show()\n",
    "\n",
    "# Profile based on complaints\n",
    "plt.figure(figsize=(8, 6))\n",
    "sns.countplot(x='Complain', hue='Response', data=consolidated_df)\n",
    "plt.title('Complaints by Response')\n",
    "plt.xlabel('Complaint')\n",
    "plt.ylabel('Count')\n",
    "plt.show()"
   ]
  },
  {
   "cell_type": "code",
   "execution_count": null,
   "id": "81460e23",
   "metadata": {},
   "outputs": [],
   "source": [
    "import pandas as pd\n",
    "\n",
    "# Business Basis: Understanding the relationship between the number of web visits per month and customer response.\n",
    "# Hypothesis: Customers who visit the website more frequently are more likely to respond positively to campaigns.\n",
    "\n",
    "# Profile based on the number of web visits per month by response\n",
    "web_visits_response = consolidated_df.groupby('Response')['NumWebVisitsMonth'].mean()\n",
    "print(\"Profile based on Number of Web Visits per Month by Response:\")\n",
    "print(web_visits_response)\n",
    "print()\n",
    "\n",
    "# Business Basis: Analyzing the effectiveness of each campaign in eliciting customer response.\n",
    "# Hypothesis: Certain campaigns may have higher response rates compared to others.\n",
    "\n",
    "# Profile based on campaign response\n",
    "campaign_columns = ['AcceptedCmp1', 'AcceptedCmp2', 'AcceptedCmp3', 'AcceptedCmp4', 'AcceptedCmp5']\n",
    "campaign_response = consolidated_df[campaign_columns].mean()\n",
    "print(\"Profile based on Campaign Response:\")\n",
    "print(campaign_response)\n",
    "print()\n",
    "\n",
    "# Business Basis: Investigating the relationship between customer complaints and response to campaigns.\n",
    "# Hypothesis: Customers who have complained in the past may have different response patterns compared to those who haven't.\n",
    "\n",
    "# Profile based on complaints by response\n",
    "complaints_response = consolidated_df.groupby(['Response', 'Complain']).size().unstack(fill_value=0)\n",
    "print(\"Profile based on Complaints by Response:\")\n",
    "print(complaints_response)\n",
    "print()"
   ]
  },
  {
   "cell_type": "code",
   "execution_count": null,
   "id": "42055b6e",
   "metadata": {},
   "outputs": [],
   "source": [
    "## Web Visits by Response:\n",
    "##   - Both responders and non-responders visit the website approximately 5 times per month, with minimal difference.\n",
    "\n",
    "## Campaign Response:\n",
    "##   - Campaigns AcceptedCmp3, AcceptedCmp4, and AcceptedCmp5 show relatively higher response rates compared to others.\n",
    "\n",
    "## Complaints by Response:\n",
    "##   - Fewer responders have lodged complaints compared to non-responders."
   ]
  },
  {
   "cell_type": "code",
   "execution_count": null,
   "id": "79131e4f",
   "metadata": {},
   "outputs": [],
   "source": []
  },
  {
   "cell_type": "code",
   "execution_count": null,
   "id": "f825dae0",
   "metadata": {},
   "outputs": [],
   "source": []
  },
  {
   "cell_type": "code",
   "execution_count": null,
   "id": "f0ed6648",
   "metadata": {},
   "outputs": [],
   "source": []
  },
  {
   "cell_type": "code",
   "execution_count": null,
   "id": "eb38373d",
   "metadata": {},
   "outputs": [],
   "source": []
  },
  {
   "cell_type": "code",
   "execution_count": null,
   "id": "a750d9d9",
   "metadata": {
    "scrolled": true
   },
   "outputs": [],
   "source": []
  },
  {
   "cell_type": "code",
   "execution_count": null,
   "id": "1b9147d7",
   "metadata": {},
   "outputs": [],
   "source": []
  },
  {
   "cell_type": "code",
   "execution_count": null,
   "id": "0af6cbec",
   "metadata": {},
   "outputs": [],
   "source": []
  },
  {
   "cell_type": "code",
   "execution_count": null,
   "id": "a22f912b",
   "metadata": {},
   "outputs": [],
   "source": []
  },
  {
   "cell_type": "code",
   "execution_count": null,
   "id": "3199fe60",
   "metadata": {},
   "outputs": [],
   "source": []
  },
  {
   "cell_type": "code",
   "execution_count": null,
   "id": "b62554e5",
   "metadata": {},
   "outputs": [],
   "source": []
  },
  {
   "cell_type": "code",
   "execution_count": null,
   "id": "8b8493c0",
   "metadata": {},
   "outputs": [],
   "source": []
  }
 ],
 "metadata": {
  "kernelspec": {
   "display_name": "Python 3 (ipykernel)",
   "language": "python",
   "name": "python3"
  },
  "language_info": {
   "codemirror_mode": {
    "name": "ipython",
    "version": 3
   },
   "file_extension": ".py",
   "mimetype": "text/x-python",
   "name": "python",
   "nbconvert_exporter": "python",
   "pygments_lexer": "ipython3",
   "version": "3.9.13"
  }
 },
 "nbformat": 4,
 "nbformat_minor": 5
}
